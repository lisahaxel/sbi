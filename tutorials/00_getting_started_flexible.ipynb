{
 "cells": [
  {
   "cell_type": "markdown",
   "metadata": {},
   "source": [
    "# Getting started with `sbi`"
   ]
  },
  {
   "cell_type": "markdown",
   "metadata": {},
   "source": [
    "`sbi` provides a simple interface to run state-of-the-art algorithms for simulation-based inference.\n",
    "\n",
    "**The overall goal of simulation-based inference is to algorithmically identify mechanistic models which are consistent with data.**\n",
    "\n",
    "In this tutorial we demonstrate how to get started with the `sbi` toolbox and how to perform parameter inference on a simple model. \n",
    "\n",
    "Each of the implemented inference methods needs three inputs: \n",
    "1. A candidate (mechanistic) model - _the simulator_\n",
    "2. prior knowledge or constraints on model parameters - _the prior_\n",
    "3. observational data (or summary statistics thereof) - _the observations_"
   ]
  },
  {
   "cell_type": "markdown",
   "metadata": {},
   "source": [
    "Note, you can find the original version of this notebook at [https://github.com/sbi-dev/sbi/blob/main/tutorials/00_getting_started.ipynb](https://github.com/sbi-dev/sbi/blob/main/tutorials/00_getting_started.ipynb) in the `sbi` repository."
   ]
  },
  {
   "cell_type": "code",
   "execution_count": 6,
   "metadata": {},
   "outputs": [],
   "source": [
    "import torch\n",
    "\n",
    "from sbi import analysis as analysis\n",
    "from sbi import utils as utils\n",
    "from sbi.inference import SNPE, simulate_for_sbi\n",
    "from sbi.utils.user_input_checks import (\n",
    "    check_sbi_inputs,\n",
    "    process_prior,\n",
    "    process_simulator,\n",
    ")"
   ]
  },
  {
   "cell_type": "markdown",
   "metadata": {},
   "source": [
    "## Parameter inference in a linear Gaussian example\n",
    "\n"
   ]
  },
  {
   "cell_type": "markdown",
   "metadata": {},
   "source": [
    "For this illustrative example, we consider a model _simulator_, that takes in 3 parameters (theta). For simplicity, the _simulator_ outputs simulations of the same dimensionality and just adds 1.0 and some Gaussian noise to the parameter set. \n",
    "\n",
    "For the 3-dimensional parameter space we consider a uniform _prior_ between [-2,2].\n",
    "\n",
    "> Note: This is where you would incorporate prior knowlegde about the parameters you want to learn the distribution over. \n",
    "\n"
   ]
  },
  {
   "cell_type": "code",
   "execution_count": 5,
   "metadata": {},
   "outputs": [],
   "source": [
   "# Define the number of dimensions and the prior \n"
    "num_dim = 3\n",
    "prior = utils.BoxUniform(low=-2 * torch.ones(num_dim), high=2 * torch.ones(num_dim))\n",
    "\n",
    "# Define the simulator function \n"
    "def simulator(theta):\n",
    "    return theta + 1.0 + torch.randn_like(theta) * 0.1"
   ]
  },
  {
   "cell_type": "markdown",
   "metadata": {},
   "source": [
    "We have to ensure that your _simulator_ and _prior_ adhere to the requirements of `sbi`. You can do so with the `process_simulator()` and `process_prior()` functions, which prepare them appropriately. Finally, you can call `check_sbi_input()` to make sure they are consistent which each other."
   ]
  },
  {
   "cell_type": "code",
   "execution_count": 7,
   "metadata": {},
   "outputs": [],
   "source": [
    "# Check prior, return PyTorch prior.\n",
    "prior, num_parameters, prior_returns_numpy = process_prior(prior)\n",
    "\n",
    "# Check simulator, returns PyTorch simulator able to simulate batches.\n",
    "simulator = process_simulator(simulator, prior, prior_returns_numpy)\n",
    "\n",
    "# Consistency check after making ready for sbi.\n",
    "check_sbi_inputs(simulator, prior)"
   ]
  },
  {
   "cell_type": "markdown",
   "metadata": {},
   "source": [
    "Next, we instantiate the inference object. Here, we use Sequential Neural Posterior Estimation (SNPE):"
   ]
  },
  {
   "cell_type": "code",
   "execution_count": 8,
   "metadata": {},
   "outputs": [],
   "source": [
    "inference = SNPE(prior=prior)"
   ]
  },
  {
   "cell_type": "markdown",
   "metadata": {},
   "source": [
    "Next, we generate simulations or more specifically generate pairs of paramters $\\theta$ which we sample from the _prior_ and correpsonding simulations $x = \\mathrm{simulator} (\\theta)$ . \n",
    "\n",
    "You can do so either by yourself by sampling from the prior and running the simulator (e.g., on a compute cluster), or you can use a helper function provided by `sbi` called `simulate_for_sbi`. This function allows to parallelize your code with `joblib`."
   ]
  },
  {
   "cell_type": "code",
   "execution_count": 9,
   "metadata": {},
   "outputs": [
    {
     "data": {
      "application/vnd.jupyter.widget-view+json": {
       "model_id": "f218a454f03248cea1d53503662f3e50",
       "version_major": 2,
       "version_minor": 0
      },
      "text/plain": [
       "Running 2000 simulations.:   0%|          | 0/2000 [00:00<?, ?it/s]"
      ]
     },
     "metadata": {},
     "output_type": "display_data"
    }
   ],
   "source": [
    "theta, x = simulate_for_sbi(simulator, proposal=prior, num_simulations=2000)"
   ]
  },
  {
   "cell_type": "markdown",
   "metadata": {},
   "source": [
    "We then pass the simulated data to the inference object. Both `theta` and `x` should be a `torch.Tensor` of type `float32`."
   ]
  },
  {
   "cell_type": "code",
   "execution_count": 10,
   "metadata": {},
   "outputs": [],
   "source": [
    "inference = inference.append_simulations(theta, x)"
   ]
  },
  {
   "cell_type": "markdown",
   "metadata": {},
   "source": [
    "Next, we train the _neural density estimator_ to learn the (probabilistic) association between the simulated data (or data features) and the underlying parameters:"
   ]
  },
  {
   "cell_type": "code",
   "execution_count": 11,
   "metadata": {},
   "outputs": [
    {
     "name": "stdout",
     "output_type": "stream",
     "text": [
      " Neural network successfully converged after 56 epochs."
     ]
    }
   ],
   "source": [
    "density_estimator = inference.train()"
   ]
  },
  {
   "cell_type": "markdown",
   "metadata": {},
   "source": [
    "Finally, we use this _density estimator_ to build the posterior distribution $p(\\theta|x)$, i.e., the distributions over paramters $\\theta$ given observation $x$. Effectively `build_posterior` acts as a wrapper for the raw _density estimator_ that among other features (which go beyond the scope of this introductory tutorial) allows us to sample from the posterior via `.sample()` or generate a pairplot for visualisation via `.pairplot()`."
   ]
  },
  {
   "cell_type": "code",
   "execution_count": 12,
   "metadata": {},
   "outputs": [],
   "source": [
    "posterior = inference.build_posterior(density_estimator)"
   ]
  },
  {
   "cell_type": "markdown",
   "metadata": {},
   "source": [
    "## Visualisations of the inferred posterior for a new observation\n",
    "\n",
    "Let's say we have made some observation $x_{obs}$ for which we now want to infer the posterior:"
   ]
  },
  {
   "cell_type": "code",
   "execution_count": 43,
   "metadata": {},
   "outputs": [],
   "source": [
    "x_obs = torch.zeros(3)"
   ]
  },
  {
   "cell_type": "markdown",
   "metadata": {},
   "source": [
    " Given this observation, we can then sample from the posterior $p(\\theta|x_{obs})$ and visualise the univariate and pairwise marginals for the three parameters."
   ]
  },
  {
   "cell_type": "code",
   "execution_count": 44,
   "metadata": {},
   "outputs": [
    {
     "data": {
      "application/vnd.jupyter.widget-view+json": {
       "model_id": "1f8d8e8bc36a45a9a99300e539611613",
       "version_major": 2,
       "version_minor": 0
      },
      "text/plain": [
       "Drawing 10000 posterior samples:   0%|          | 0/10000 [00:00<?, ?it/s]"
      ]
     },
     "metadata": {},
     "output_type": "display_data"
    },
    {
     "data": {
      "image/png": "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",
      "text/plain": [
       "<Figure size 600x600 with 9 Axes>"
      ]
     },
     "metadata": {},
     "output_type": "display_data"
    }
   ],
   "source": [
    "samples = posterior.sample((10000,), x=x_obs)\n",
    "_ = analysis.pairplot(samples, limits=[[-2, 2], [-2, 2], [-2, 2]], figsize=(6, 6))"
   ]
  },
  {
   "cell_type": "markdown",
   "metadata": {},
   "source": [
    "## Assessing the posterior for a known $\\theta, x$ - pair "
   ]
  },
  {
   "cell_type": "code",
   "execution_count": 62,
   "metadata": {},
   "outputs": [],
   "source": [
    "theta_true, x_true = simulate_for_sbi(simulator, proposal=prior, num_simulations=1)\n",
    "theta_off, x_off = simulate_for_sbi(simulator, proposal=prior, num_simulations=1)"
   ]
  },
  {
   "cell_type": "markdown",
   "metadata": {},
   "source": [
    "Now we can assess, if the interred distirbutions over the parameters match the parameters we used to generate our test sample."
   ]
  },
  {
   "cell_type": "code",
   "execution_count": 63,
   "metadata": {},
   "outputs": [
    {
     "data": {
      "application/vnd.jupyter.widget-view+json": {
       "model_id": "513f3ea15ebe4222ad0a414139d951b3",
       "version_major": 2,
       "version_minor": 0
      },
      "text/plain": [
       "Drawing 10000 posterior samples:   0%|          | 0/10000 [00:00<?, ?it/s]"
      ]
     },
     "metadata": {},
     "output_type": "display_data"
    },
    {
     "data": {
      "image/png": "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",
      "text/plain": [
       "<Figure size 600x600 with 9 Axes>"
      ]
     },
     "metadata": {},
     "output_type": "display_data"
    }
   ],
   "source": [
    "samples = posterior.sample((10000,), x=x_true)\n",
    "_ = analysis.pairplot(samples, points=theta_true, limits=[[-2, 2], [-2, 2], [-2, 2]], figsize=(6, 6))"
   ]
  },
  {
   "cell_type": "markdown",
   "metadata": {},
   "source": [
    "We can evaluate the log-probabilty of the posterior via `.log_prob()`, i.e. we can evaluate the likelihood of parameters $\\theta$ given an observation $x$. "
   ]
  },
  {
   "cell_type": "code",
   "execution_count": 66,
   "metadata": {},
   "outputs": [
    {
     "name": "stdout",
     "output_type": "stream",
     "text": [
      "high for true theta : tensor([2.0262])\n",
      "low for different theta : tensor([-130.2933])\n",
      "range of posterior samples: min: tensor(-7.3961)  max : tensor(4.2881)\n"
     ]
    }
   ],
   "source": [
    "log_probability_true_theta = posterior.log_prob(theta_true, x=x_true)\n",
    "log_probability_diff_theta = posterior.log_prob(theta_off, x=x_true)\n",
    "log_probability_samples = posterior.log_prob(samples, x=x_true)\n",
    "\n",
    "print( r'high for true theta :', log_probability_true_theta)\n",
    "print( r'low for different theta :', log_probability_diff_theta)\n",
    "print( r'range of posterior samples: min:', torch.min(log_probability_samples),' max :', torch.max(log_probability_samples))\n"
   ]
  },
  {
   "cell_type": "markdown",
   "metadata": {},
   "source": [
    "## Next steps\n",
    "\n",
    "# TODO"
   ]
  },
  {
   "cell_type": "markdown",
   "metadata": {},
   "source": []
  }
 ],
 "metadata": {
  "kernelspec": {
   "display_name": "Python 3",
   "language": "python",
   "name": "python3"
  },
  "language_info": {
   "codemirror_mode": {
    "name": "ipython",
    "version": 3
   },
   "file_extension": ".py",
   "mimetype": "text/x-python",
   "name": "python",
   "nbconvert_exporter": "python",
   "pygments_lexer": "ipython3",
   "version": "3.8.18"
  }
 },
 "nbformat": 4,
 "nbformat_minor": 4
}
