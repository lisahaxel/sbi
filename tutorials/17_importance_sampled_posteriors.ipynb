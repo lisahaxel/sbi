{
 "cells": [
  {
   "cell_type": "markdown",
   "id": "03801d7a-1e1f-46ab-8114-3504c6363f9b",
   "metadata": {},
   "source": [
    "## Theory"
   ]
  },
  {
   "cell_type": "markdown",
   "id": "cb0b9d26-e5f7-4866-ae1b-fad6485d54b1",
   "metadata": {},
   "source": [
    "SBI estimates the posterior $p(\\theta|x) = {p(\\theta)p(x|\\theta)}/{p(x)}$ based on samples from the prior $\\theta\\sim p(\\theta)$ and the likelihood $x\\sim p(x|\\theta)$. Sometimes, we can do both, *sample* and *evaluate* the prior and likelihood. In this case, we can combine the *simulation-based* estimate $q(\\theta|x)$ with *likelihood-based* importance sampling, and thereby generate an asymptotically exact estimate for $p(\\theta|x)$.\n",
    "\n",
    "### Importance weights\n",
    "\n",
    "The main idea is to interpret $q(\\theta|x)$ as a proposal distribution and generate proposal samples $\\theta_i\\sim q(\\theta|x)$, and then augment each sample with an importance weight $w_i = p(\\theta_i|x) / q(\\theta_i|x)$. The definition of the importance weights is motivated from Monte Carlo estimates for the random variable $f(\\theta)$, \n",
    "\n",
    "$$ \n",
    "\\mathbb{E}_{\\theta\\sim p(\\theta|x)}\\left[f(\\theta)\\right] \n",
    "=\\int p(\\theta|x) f(\\theta)\\,\\text{d}\\theta\n",
    "\\approx \\sum_{\\theta_i\\sim p(\\theta_i|x)} f(\\theta_i).\n",
    "$$\n",
    "\n",
    "We can rewrite this expression as \n",
    "\n",
    "$$ \n",
    "\\mathbb{E}_{\\theta\\sim p(\\theta|x)}\\left[f(\\theta)\\right] \n",
    "=\\int p(\\theta|x) f(\\theta)\\,\\text{d}\\theta\n",
    "=\\int q(\\theta|x) \\frac{p(\\theta|x)}{q(\\theta|x)}f(\\theta)\\,\\text{d}\\theta\n",
    "\\approx \\sum_{\\theta_i\\sim q(\\theta_i|x)} \\frac{p(\\theta_i|x)}{q(\\theta_i|x)}f(\\theta_i)\n",
    "\\approx \\sum_{\\theta_i\\sim q(\\theta_i|x)} w_i\\cdot f(\\theta_i).\n",
    "$$\n",
    "\n",
    "Instead of sampling $\\theta_i\\sim p(\\theta_i|x)$, we can thus sample $\\theta_i\\sim q(\\theta_i|x)$ and attach a corresponding importance weight $w_i$ to each sample. Intuitively, the importance weights downweight samples where $q(\\theta|x)$ overestimates $p(\\theta|x)$ and upweight samples where $p(\\theta|x)$ underestimates $q(\\theta|x)$.\n",
    "\n",
    "### Effective sample size $n_\\text{eff}$ and sample efficiency $\\epsilon$\n",
    "\n",
    "If inference were perfect, we would have $w_i = p(\\theta_i|x) / q(\\theta_i|x) = 1~\\forall i$. In practice however, SBI does not provide exact inference results $q(\\theta_i|x)$, and the weights will have a finite variance $\\text{Var}(w) > 0$. Performing the Monte Carlo estimate above with $n$ samples from $q(\\theta|x)$ thus results in reduced precision compared to doing the same with $n$ samples from $p(\\theta|x)$. This is formalized by the notion of the *effective sample size* (see e.g. [here](http://www2.stat.duke.edu/~scs/Courses/Stat376/Papers/ConvergeRates/LiuMetropolized1996.pdf))\n",
    "\n",
    "$$\n",
    "n_\\text{eff} = \\frac{n}{1 + \\text{Var}(w)} = \\frac{\\left(\\sum_i w_i\\right)^2}{\\sum_i \\left(w_i^2\\right)}.\n",
    "$$\n",
    "\n",
    "Loosely speaking, using $n$ samples $\\theta_i\\sim q(\\theta_i|x)$ is equivalent to using $n_\\text{eff}$ samples from the true posterior $p(\\theta|x)$. The *sample efficiency*\n",
    "\n",
    "$$\n",
    "\\epsilon = \\frac{n_\\text{eff}}{n} \\in (0, 1]\n",
    "$$\n",
    "\n",
    "is an indirect measure of the quality of the proposal $q(\\theta|x)$.\n",
    "\n",
    "### Mass coverage\n",
    "Importance sampling requires $p(\\theta|x) \\subseteq q(\\theta|x)$. When using NPE, this should naturally be ensured, as NPE is trained with the mass-covering forward KL divergence, such that $p(\\theta|x) \\not\\subseteq q(\\theta|x)$ for in-distribution data would imply a diverging validation loss. \n",
    "\n",
    "When $q(\\theta|x)$ is a light-tailed estimate of $p(\\theta|x)$, the variance of the importance weights is unbounded and we may encounter a small sample efficiency $\\epsilon$.\n",
    "\n",
    "### Self-normalized importance sampling and the Bayesian evidence\n",
    "\n",
    "In practice, we don't have access to the normalized posterior, but only to $p(\\theta|x) \\cdot p(x) = p(\\theta)p(x|\\theta)$. We thus have to use self-normalized importance sampling. In this case, an unbiased estimate of the Bayesian evidence $p(x)$ can be computed from the normalization of the importance weights (see e.g. [here](https://arxiv.org/abs/2210.05686))\n",
    "\n",
    "$$\n",
    "p(x) = \\frac{\\sum_i w_i}{n}\n",
    "$$\n",
    "\n",
    "with a statistical uncertainty scaling with $1/\\sqrt{n}$,\n",
    "\n",
    "$$\n",
    "\\sigma_{p(x)} = p(x)\\cdot \\sqrt{\\frac{1-\\epsilon}{n\\cdot \\epsilon}}.\n",
    "$$"
   ]
  },
  {
   "cell_type": "markdown",
   "id": "fe5e6091-285a-4841-b902-7e335fc15513",
   "metadata": {},
   "source": [
    "## Implementation"
   ]
  },
  {
   "cell_type": "code",
   "execution_count": 15,
   "id": "f3284c6a-5205-492a-bbd9-c1b46bb2feb3",
   "metadata": {},
   "outputs": [],
   "source": [
    "from torch import ones, eye\n",
    "import torch\n",
    "from torch.distributions import MultivariateNormal\n",
    "\n",
    "from sbi.inference import SNPE, ImportanceSamplingPosterior\n",
    "from sbi.utils import BoxUniform\n",
    "from sbi.inference.potentials.base_potential import BasePotential\n",
    "from sbi.analysis import pairplot, marginal_plot"
   ]
  },
  {
   "cell_type": "code",
   "execution_count": 16,
   "id": "b8b0988f-8aee-4ab3-9458-48183380a38f",
   "metadata": {},
   "outputs": [],
   "source": [
    "class Simulator:\n",
    "    def __init__(self):\n",
    "        pass\n",
    "\n",
    "    def log_prob(self, theta, x, prior):\n",
    "        return MultivariateNormal(theta, eye(2)).log_prob(x) + prior.log_prob(theta)\n",
    "\n",
    "    def sample(self, theta):\n",
    "        return theta + torch.randn((theta.shape))"
   ]
  },
  {
   "cell_type": "code",
   "execution_count": 17,
   "id": "cfd11aeb-b2a4-4ff9-91ec-412278b40cb3",
   "metadata": {},
   "outputs": [],
   "source": [
    "prior = BoxUniform(-5 * ones((2,)), 5 * ones((2,)))\n",
    "sim = Simulator()"
   ]
  },
  {
   "cell_type": "code",
   "execution_count": 18,
   "id": "300af8d5-3f2a-4f54-b66c-0a54ae231cc6",
   "metadata": {},
   "outputs": [],
   "source": [
    "theta = prior.sample((50,))\n",
    "x = sim.sample(theta)\n",
    "log_prob = sim.log_prob(theta, x, myprior)"
   ]
  },
  {
   "cell_type": "code",
   "execution_count": 6,
   "id": "92bcc66c-2239-4ba9-990d-682c37fe7c64",
   "metadata": {},
   "outputs": [
    {
     "data": {
      "text/plain": [
       "tensor([ -7.0203,  -6.7757,  -8.7409, -11.0604,  -6.8828,  -6.8849,  -6.7167,\n",
       "         -6.5307,  -7.6620,  -7.1050,  -6.9813,  -7.7949,  -6.4848,  -8.8385,\n",
       "         -6.5047,  -7.5428,  -6.5311,  -7.8525,  -7.6094,  -6.8969,  -6.5591,\n",
       "         -8.4800,  -9.2732,  -7.5526,  -6.8612,  -6.9509,  -6.6061,  -6.9288,\n",
       "         -8.6525,  -6.8885,  -9.0233,  -6.6701,  -6.9285, -11.2049,  -6.5632,\n",
       "         -6.6593,  -7.2530,  -7.5786, -11.1936,  -6.6386,  -6.6733,  -7.0817,\n",
       "         -6.5013, -10.9662,  -6.8552,  -7.1537,  -7.4354,  -8.6405,  -7.6694,\n",
       "         -6.6940])"
      ]
     },
     "execution_count": 6,
     "metadata": {},
     "output_type": "execute_result"
    }
   ],
   "source": [
    "log_prob"
   ]
  },
  {
   "cell_type": "code",
   "execution_count": 1,
   "id": "73d97121-7990-479f-b261-99ccbb2127e8",
   "metadata": {},
   "outputs": [
    {
     "name": "stdout",
     "output_type": "stream",
     "text": [
      " Neural network successfully converged after 93 epochs.observations.shape torch.Size([5, 2])\n"
     ]
    },
    {
     "data": {
      "application/vnd.jupyter.widget-view+json": {
       "model_id": "851cdf8a650545539807c4d818c9ad87",
       "version_major": 2,
       "version_minor": 0
      },
      "text/plain": [
       "Drawing 5000 posterior samples:   0%|          | 0/5000 [00:00<?, ?it/s]"
      ]
     },
     "metadata": {},
     "output_type": "display_data"
    },
    {
     "data": {
      "application/vnd.jupyter.widget-view+json": {
       "model_id": "5d9f0f7b7ac94dada3f10ca7eafb2451",
       "version_major": 2,
       "version_minor": 0
      },
      "text/plain": [
       "Drawing 5000 posterior samples:   0%|          | 0/5000 [00:00<?, ?it/s]"
      ]
     },
     "metadata": {},
     "output_type": "display_data"
    },
    {
     "data": {
      "application/vnd.jupyter.widget-view+json": {
       "model_id": "4b009e6196e347a5af0803195617961a",
       "version_major": 2,
       "version_minor": 0
      },
      "text/plain": [
       "Drawing 9984 posterior samples:   0%|          | 0/9984 [00:00<?, ?it/s]"
      ]
     },
     "metadata": {},
     "output_type": "display_data"
    },
    {
     "data": {
      "application/vnd.jupyter.widget-view+json": {
       "model_id": "bc7277bbacf240d5b63475dc504cf640",
       "version_major": 2,
       "version_minor": 0
      },
      "text/plain": [
       "Drawing 9984 posterior samples:   0%|          | 0/9984 [00:00<?, ?it/s]"
      ]
     },
     "metadata": {},
     "output_type": "display_data"
    },
    {
     "data": {
      "application/vnd.jupyter.widget-view+json": {
       "model_id": "57b994df38ac4680976e9a7ad0c70fd6",
       "version_major": 2,
       "version_minor": 0
      },
      "text/plain": [
       "Drawing 9984 posterior samples:   0%|          | 0/9984 [00:00<?, ?it/s]"
      ]
     },
     "metadata": {},
     "output_type": "display_data"
    },
    {
     "data": {
      "application/vnd.jupyter.widget-view+json": {
       "model_id": "fcc125e25ad74694939401a48f77f3b3",
       "version_major": 2,
       "version_minor": 0
      },
      "text/plain": [
       "Drawing 9984 posterior samples:   0%|          | 0/9984 [00:00<?, ?it/s]"
      ]
     },
     "metadata": {},
     "output_type": "display_data"
    },
    {
     "data": {
      "application/vnd.jupyter.widget-view+json": {
       "model_id": "1e2471ce83fb441888adab839ca9f760",
       "version_major": 2,
       "version_minor": 0
      },
      "text/plain": [
       "Drawing 9984 posterior samples:   0%|          | 0/9984 [00:00<?, ?it/s]"
      ]
     },
     "metadata": {},
     "output_type": "display_data"
    },
    {
     "data": {
      "application/vnd.jupyter.widget-view+json": {
       "model_id": "a539d47119164714a60be55bbdabd229",
       "version_major": 2,
       "version_minor": 0
      },
      "text/plain": [
       "Drawing 9984 posterior samples:   0%|          | 0/9984 [00:00<?, ?it/s]"
      ]
     },
     "metadata": {},
     "output_type": "display_data"
    },
    {
     "data": {
      "application/vnd.jupyter.widget-view+json": {
       "model_id": "dbc370a84ab941409535afa6d4dcfdfe",
       "version_major": 2,
       "version_minor": 0
      },
      "text/plain": [
       "Drawing 9984 posterior samples:   0%|          | 0/9984 [00:00<?, ?it/s]"
      ]
     },
     "metadata": {},
     "output_type": "display_data"
    },
    {
     "data": {
      "application/vnd.jupyter.widget-view+json": {
       "model_id": "49d18d069d754c46916247a3ad3d1d20",
       "version_major": 2,
       "version_minor": 0
      },
      "text/plain": [
       "Drawing 9984 posterior samples:   0%|          | 0/9984 [00:00<?, ?it/s]"
      ]
     },
     "metadata": {},
     "output_type": "display_data"
    },
    {
     "data": {
      "application/vnd.jupyter.widget-view+json": {
       "model_id": "5ae7f002126d4c389224058d40f1dd8f",
       "version_major": 2,
       "version_minor": 0
      },
      "text/plain": [
       "Drawing 9984 posterior samples:   0%|          | 0/9984 [00:00<?, ?it/s]"
      ]
     },
     "metadata": {},
     "output_type": "display_data"
    },
    {
     "data": {
      "application/vnd.jupyter.widget-view+json": {
       "model_id": "56fe32c012f249189aa0e5aec36404ad",
       "version_major": 2,
       "version_minor": 0
      },
      "text/plain": [
       "Drawing 9984 posterior samples:   0%|          | 0/9984 [00:00<?, ?it/s]"
      ]
     },
     "metadata": {},
     "output_type": "display_data"
    },
    {
     "data": {
      "application/vnd.jupyter.widget-view+json": {
       "model_id": "9afb64342994408c899d78b54b9f08f7",
       "version_major": 2,
       "version_minor": 0
      },
      "text/plain": [
       "Drawing 9984 posterior samples:   0%|          | 0/9984 [00:00<?, ?it/s]"
      ]
     },
     "metadata": {},
     "output_type": "display_data"
    },
    {
     "data": {
      "application/vnd.jupyter.widget-view+json": {
       "model_id": "a4828d9d755a4541b73d9b7bd6e246d6",
       "version_major": 2,
       "version_minor": 0
      },
      "text/plain": [
       "Drawing 9984 posterior samples:   0%|          | 0/9984 [00:00<?, ?it/s]"
      ]
     },
     "metadata": {},
     "output_type": "display_data"
    },
    {
     "data": {
      "application/vnd.jupyter.widget-view+json": {
       "model_id": "1df0e963405e44a5b35f1f28365e3ca1",
       "version_major": 2,
       "version_minor": 0
      },
      "text/plain": [
       "Drawing 9984 posterior samples:   0%|          | 0/9984 [00:00<?, ?it/s]"
      ]
     },
     "metadata": {},
     "output_type": "display_data"
    },
    {
     "data": {
      "application/vnd.jupyter.widget-view+json": {
       "model_id": "35adcabbffe6440bbc496bcdc1bb44ee",
       "version_major": 2,
       "version_minor": 0
      },
      "text/plain": [
       "Drawing 9984 posterior samples:   0%|          | 0/9984 [00:00<?, ?it/s]"
      ]
     },
     "metadata": {},
     "output_type": "display_data"
    },
    {
     "data": {
      "application/vnd.jupyter.widget-view+json": {
       "model_id": "fe61e8fcbe354c15b30351647939545c",
       "version_major": 2,
       "version_minor": 0
      },
      "text/plain": [
       "Drawing 9984 posterior samples:   0%|          | 0/9984 [00:00<?, ?it/s]"
      ]
     },
     "metadata": {},
     "output_type": "display_data"
    },
    {
     "data": {
      "application/vnd.jupyter.widget-view+json": {
       "model_id": "176f24f6f50d4f0197236cdeaad70577",
       "version_major": 2,
       "version_minor": 0
      },
      "text/plain": [
       "Drawing 9984 posterior samples:   0%|          | 0/9984 [00:00<?, ?it/s]"
      ]
     },
     "metadata": {},
     "output_type": "display_data"
    },
    {
     "data": {
      "application/vnd.jupyter.widget-view+json": {
       "model_id": "c86082a8ec214031a8b17629a4c1ec73",
       "version_major": 2,
       "version_minor": 0
      },
      "text/plain": [
       "Drawing 256 posterior samples:   0%|          | 0/256 [00:00<?, ?it/s]"
      ]
     },
     "metadata": {},
     "output_type": "display_data"
    },
    {
     "data": {
      "application/vnd.jupyter.widget-view+json": {
       "model_id": "c7acd99d1ad24be0aca45e3313a86566",
       "version_major": 2,
       "version_minor": 0
      },
      "text/plain": [
       "Drawing 5000 posterior samples:   0%|          | 0/5000 [00:00<?, ?it/s]"
      ]
     },
     "metadata": {},
     "output_type": "display_data"
    },
    {
     "data": {
      "application/vnd.jupyter.widget-view+json": {
       "model_id": "58fac4d1096f47aab82abe5d14d8bc50",
       "version_major": 2,
       "version_minor": 0
      },
      "text/plain": [
       "Drawing 5000 posterior samples:   0%|          | 0/5000 [00:00<?, ?it/s]"
      ]
     },
     "metadata": {},
     "output_type": "display_data"
    },
    {
     "data": {
      "application/vnd.jupyter.widget-view+json": {
       "model_id": "31d422f32486484b933cb631668d0b78",
       "version_major": 2,
       "version_minor": 0
      },
      "text/plain": [
       "Drawing 9984 posterior samples:   0%|          | 0/9984 [00:00<?, ?it/s]"
      ]
     },
     "metadata": {},
     "output_type": "display_data"
    },
    {
     "data": {
      "application/vnd.jupyter.widget-view+json": {
       "model_id": "958137a0dd9046b1823fe3bd95706d76",
       "version_major": 2,
       "version_minor": 0
      },
      "text/plain": [
       "Drawing 9984 posterior samples:   0%|          | 0/9984 [00:00<?, ?it/s]"
      ]
     },
     "metadata": {},
     "output_type": "display_data"
    },
    {
     "data": {
      "application/vnd.jupyter.widget-view+json": {
       "model_id": "232b0a0c1d924b1fb2d0cb821e8f1394",
       "version_major": 2,
       "version_minor": 0
      },
      "text/plain": [
       "Drawing 9984 posterior samples:   0%|          | 0/9984 [00:00<?, ?it/s]"
      ]
     },
     "metadata": {},
     "output_type": "display_data"
    },
    {
     "data": {
      "application/vnd.jupyter.widget-view+json": {
       "model_id": "d809577973b8429ba33e774268cba742",
       "version_major": 2,
       "version_minor": 0
      },
      "text/plain": [
       "Drawing 9984 posterior samples:   0%|          | 0/9984 [00:00<?, ?it/s]"
      ]
     },
     "metadata": {},
     "output_type": "display_data"
    },
    {
     "data": {
      "application/vnd.jupyter.widget-view+json": {
       "model_id": "a4a35d4c8b7b46f7934ff4b5c44b45c1",
       "version_major": 2,
       "version_minor": 0
      },
      "text/plain": [
       "Drawing 9984 posterior samples:   0%|          | 0/9984 [00:00<?, ?it/s]"
      ]
     },
     "metadata": {},
     "output_type": "display_data"
    },
    {
     "data": {
      "application/vnd.jupyter.widget-view+json": {
       "model_id": "4bdf1bdf4227425582e8e7436469cdfb",
       "version_major": 2,
       "version_minor": 0
      },
      "text/plain": [
       "Drawing 9984 posterior samples:   0%|          | 0/9984 [00:00<?, ?it/s]"
      ]
     },
     "metadata": {},
     "output_type": "display_data"
    },
    {
     "data": {
      "application/vnd.jupyter.widget-view+json": {
       "model_id": "3e3668915da34bd1a5d1524a8a299246",
       "version_major": 2,
       "version_minor": 0
      },
      "text/plain": [
       "Drawing 9984 posterior samples:   0%|          | 0/9984 [00:00<?, ?it/s]"
      ]
     },
     "metadata": {},
     "output_type": "display_data"
    },
    {
     "data": {
      "application/vnd.jupyter.widget-view+json": {
       "model_id": "8f6e6338f28643e981663e3ee237d00b",
       "version_major": 2,
       "version_minor": 0
      },
      "text/plain": [
       "Drawing 9984 posterior samples:   0%|          | 0/9984 [00:00<?, ?it/s]"
      ]
     },
     "metadata": {},
     "output_type": "display_data"
    },
    {
     "data": {
      "application/vnd.jupyter.widget-view+json": {
       "model_id": "53059ae38c064d8ab44ccd81ddd6a9c0",
       "version_major": 2,
       "version_minor": 0
      },
      "text/plain": [
       "Drawing 9984 posterior samples:   0%|          | 0/9984 [00:00<?, ?it/s]"
      ]
     },
     "metadata": {},
     "output_type": "display_data"
    },
    {
     "data": {
      "application/vnd.jupyter.widget-view+json": {
       "model_id": "f4078a725ce249bdbd4704a36c8940d4",
       "version_major": 2,
       "version_minor": 0
      },
      "text/plain": [
       "Drawing 9984 posterior samples:   0%|          | 0/9984 [00:00<?, ?it/s]"
      ]
     },
     "metadata": {},
     "output_type": "display_data"
    },
    {
     "data": {
      "application/vnd.jupyter.widget-view+json": {
       "model_id": "230a69aa45b44e1e8d6b7849b520fc3b",
       "version_major": 2,
       "version_minor": 0
      },
      "text/plain": [
       "Drawing 9984 posterior samples:   0%|          | 0/9984 [00:00<?, ?it/s]"
      ]
     },
     "metadata": {},
     "output_type": "display_data"
    },
    {
     "data": {
      "application/vnd.jupyter.widget-view+json": {
       "model_id": "8c51ed64543843058ad17e86e6c0e7b2",
       "version_major": 2,
       "version_minor": 0
      },
      "text/plain": [
       "Drawing 9984 posterior samples:   0%|          | 0/9984 [00:00<?, ?it/s]"
      ]
     },
     "metadata": {},
     "output_type": "display_data"
    },
    {
     "data": {
      "application/vnd.jupyter.widget-view+json": {
       "model_id": "e37142f158734902b4795d6b2260b327",
       "version_major": 2,
       "version_minor": 0
      },
      "text/plain": [
       "Drawing 9984 posterior samples:   0%|          | 0/9984 [00:00<?, ?it/s]"
      ]
     },
     "metadata": {},
     "output_type": "display_data"
    },
    {
     "data": {
      "application/vnd.jupyter.widget-view+json": {
       "model_id": "b0a24eacfa8f44c39a8f67ad658d197c",
       "version_major": 2,
       "version_minor": 0
      },
      "text/plain": [
       "Drawing 9984 posterior samples:   0%|          | 0/9984 [00:00<?, ?it/s]"
      ]
     },
     "metadata": {},
     "output_type": "display_data"
    },
    {
     "data": {
      "application/vnd.jupyter.widget-view+json": {
       "model_id": "282d772456244397a1f9e40b49b608a6",
       "version_major": 2,
       "version_minor": 0
      },
      "text/plain": [
       "Drawing 9984 posterior samples:   0%|          | 0/9984 [00:00<?, ?it/s]"
      ]
     },
     "metadata": {},
     "output_type": "display_data"
    },
    {
     "data": {
      "application/vnd.jupyter.widget-view+json": {
       "model_id": "4c5829ed9b924b7c88bb208e3c99223d",
       "version_major": 2,
       "version_minor": 0
      },
      "text/plain": [
       "Drawing 9984 posterior samples:   0%|          | 0/9984 [00:00<?, ?it/s]"
      ]
     },
     "metadata": {},
     "output_type": "display_data"
    },
    {
     "data": {
      "application/vnd.jupyter.widget-view+json": {
       "model_id": "25015ec0208a44818e29e4ac698f35d8",
       "version_major": 2,
       "version_minor": 0
      },
      "text/plain": [
       "Drawing 256 posterior samples:   0%|          | 0/256 [00:00<?, ?it/s]"
      ]
     },
     "metadata": {},
     "output_type": "display_data"
    },
    {
     "data": {
      "application/vnd.jupyter.widget-view+json": {
       "model_id": "7f905f799ae947a5b9171d46cbfe844c",
       "version_major": 2,
       "version_minor": 0
      },
      "text/plain": [
       "Drawing 5000 posterior samples:   0%|          | 0/5000 [00:00<?, ?it/s]"
      ]
     },
     "metadata": {},
     "output_type": "display_data"
    },
    {
     "data": {
      "application/vnd.jupyter.widget-view+json": {
       "model_id": "b857efa010fb44c2ad70c4032a5c00bd",
       "version_major": 2,
       "version_minor": 0
      },
      "text/plain": [
       "Drawing 5000 posterior samples:   0%|          | 0/5000 [00:00<?, ?it/s]"
      ]
     },
     "metadata": {},
     "output_type": "display_data"
    },
    {
     "data": {
      "application/vnd.jupyter.widget-view+json": {
       "model_id": "73cc752248064635807cc981dea46e4a",
       "version_major": 2,
       "version_minor": 0
      },
      "text/plain": [
       "Drawing 9984 posterior samples:   0%|          | 0/9984 [00:00<?, ?it/s]"
      ]
     },
     "metadata": {},
     "output_type": "display_data"
    },
    {
     "data": {
      "application/vnd.jupyter.widget-view+json": {
       "model_id": "9f9eda3220d64ea795563d88c140db03",
       "version_major": 2,
       "version_minor": 0
      },
      "text/plain": [
       "Drawing 9984 posterior samples:   0%|          | 0/9984 [00:00<?, ?it/s]"
      ]
     },
     "metadata": {},
     "output_type": "display_data"
    },
    {
     "data": {
      "application/vnd.jupyter.widget-view+json": {
       "model_id": "5a4896b9cc384334886a4d0b72663aaf",
       "version_major": 2,
       "version_minor": 0
      },
      "text/plain": [
       "Drawing 9984 posterior samples:   0%|          | 0/9984 [00:00<?, ?it/s]"
      ]
     },
     "metadata": {},
     "output_type": "display_data"
    },
    {
     "data": {
      "application/vnd.jupyter.widget-view+json": {
       "model_id": "a7c12317ecca48f09ecd47f968004835",
       "version_major": 2,
       "version_minor": 0
      },
      "text/plain": [
       "Drawing 9984 posterior samples:   0%|          | 0/9984 [00:00<?, ?it/s]"
      ]
     },
     "metadata": {},
     "output_type": "display_data"
    },
    {
     "data": {
      "application/vnd.jupyter.widget-view+json": {
       "model_id": "8778df58107a4749b559e8a5367bbf7f",
       "version_major": 2,
       "version_minor": 0
      },
      "text/plain": [
       "Drawing 9984 posterior samples:   0%|          | 0/9984 [00:00<?, ?it/s]"
      ]
     },
     "metadata": {},
     "output_type": "display_data"
    },
    {
     "data": {
      "application/vnd.jupyter.widget-view+json": {
       "model_id": "afd5c4ce16524ef7abad32801cff3c53",
       "version_major": 2,
       "version_minor": 0
      },
      "text/plain": [
       "Drawing 9984 posterior samples:   0%|          | 0/9984 [00:00<?, ?it/s]"
      ]
     },
     "metadata": {},
     "output_type": "display_data"
    },
    {
     "data": {
      "application/vnd.jupyter.widget-view+json": {
       "model_id": "7144c012abf54a65b7e69ecc1a837ba2",
       "version_major": 2,
       "version_minor": 0
      },
      "text/plain": [
       "Drawing 9984 posterior samples:   0%|          | 0/9984 [00:00<?, ?it/s]"
      ]
     },
     "metadata": {},
     "output_type": "display_data"
    },
    {
     "data": {
      "application/vnd.jupyter.widget-view+json": {
       "model_id": "75ff7f929c9c45b580465f272c701e77",
       "version_major": 2,
       "version_minor": 0
      },
      "text/plain": [
       "Drawing 9984 posterior samples:   0%|          | 0/9984 [00:00<?, ?it/s]"
      ]
     },
     "metadata": {},
     "output_type": "display_data"
    },
    {
     "data": {
      "application/vnd.jupyter.widget-view+json": {
       "model_id": "69b518329d6049cb83e4f8b7e181126f",
       "version_major": 2,
       "version_minor": 0
      },
      "text/plain": [
       "Drawing 9984 posterior samples:   0%|          | 0/9984 [00:00<?, ?it/s]"
      ]
     },
     "metadata": {},
     "output_type": "display_data"
    },
    {
     "data": {
      "application/vnd.jupyter.widget-view+json": {
       "model_id": "818bbff2d84b474e9f60209a06d9bc43",
       "version_major": 2,
       "version_minor": 0
      },
      "text/plain": [
       "Drawing 9984 posterior samples:   0%|          | 0/9984 [00:00<?, ?it/s]"
      ]
     },
     "metadata": {},
     "output_type": "display_data"
    },
    {
     "data": {
      "application/vnd.jupyter.widget-view+json": {
       "model_id": "9dd89a0493c44c2787710f4fcdc6c4f5",
       "version_major": 2,
       "version_minor": 0
      },
      "text/plain": [
       "Drawing 9984 posterior samples:   0%|          | 0/9984 [00:00<?, ?it/s]"
      ]
     },
     "metadata": {},
     "output_type": "display_data"
    },
    {
     "data": {
      "application/vnd.jupyter.widget-view+json": {
       "model_id": "40cc84ef05e74b3aa28965cd3e7adb32",
       "version_major": 2,
       "version_minor": 0
      },
      "text/plain": [
       "Drawing 9984 posterior samples:   0%|          | 0/9984 [00:00<?, ?it/s]"
      ]
     },
     "metadata": {},
     "output_type": "display_data"
    },
    {
     "data": {
      "application/vnd.jupyter.widget-view+json": {
       "model_id": "ab7fb41427234314ab3985e996f1e99b",
       "version_major": 2,
       "version_minor": 0
      },
      "text/plain": [
       "Drawing 9984 posterior samples:   0%|          | 0/9984 [00:00<?, ?it/s]"
      ]
     },
     "metadata": {},
     "output_type": "display_data"
    },
    {
     "data": {
      "application/vnd.jupyter.widget-view+json": {
       "model_id": "81256c130873454ab2f3b15126d88fd7",
       "version_major": 2,
       "version_minor": 0
      },
      "text/plain": [
       "Drawing 9984 posterior samples:   0%|          | 0/9984 [00:00<?, ?it/s]"
      ]
     },
     "metadata": {},
     "output_type": "display_data"
    },
    {
     "data": {
      "application/vnd.jupyter.widget-view+json": {
       "model_id": "de969e6bb0044f5c86f727621af260a7",
       "version_major": 2,
       "version_minor": 0
      },
      "text/plain": [
       "Drawing 9984 posterior samples:   0%|          | 0/9984 [00:00<?, ?it/s]"
      ]
     },
     "metadata": {},
     "output_type": "display_data"
    },
    {
     "data": {
      "application/vnd.jupyter.widget-view+json": {
       "model_id": "4b51ea13da1f48b9af2f8b0e85f91d0e",
       "version_major": 2,
       "version_minor": 0
      },
      "text/plain": [
       "Drawing 9984 posterior samples:   0%|          | 0/9984 [00:00<?, ?it/s]"
      ]
     },
     "metadata": {},
     "output_type": "display_data"
    },
    {
     "data": {
      "application/vnd.jupyter.widget-view+json": {
       "model_id": "4414fc245aae4eada7d756bf64f31cd0",
       "version_major": 2,
       "version_minor": 0
      },
      "text/plain": [
       "Drawing 256 posterior samples:   0%|          | 0/256 [00:00<?, ?it/s]"
      ]
     },
     "metadata": {},
     "output_type": "display_data"
    },
    {
     "data": {
      "application/vnd.jupyter.widget-view+json": {
       "model_id": "e7cc459eba5848d2857422b01bca5fa9",
       "version_major": 2,
       "version_minor": 0
      },
      "text/plain": [
       "Drawing 5000 posterior samples:   0%|          | 0/5000 [00:00<?, ?it/s]"
      ]
     },
     "metadata": {},
     "output_type": "display_data"
    },
    {
     "data": {
      "application/vnd.jupyter.widget-view+json": {
       "model_id": "ea066604af3242d1a9798cdbcdd11c07",
       "version_major": 2,
       "version_minor": 0
      },
      "text/plain": [
       "Drawing 5000 posterior samples:   0%|          | 0/5000 [00:00<?, ?it/s]"
      ]
     },
     "metadata": {},
     "output_type": "display_data"
    },
    {
     "data": {
      "application/vnd.jupyter.widget-view+json": {
       "model_id": "f6cbb87b12404f95a808309cda4dced9",
       "version_major": 2,
       "version_minor": 0
      },
      "text/plain": [
       "Drawing 9984 posterior samples:   0%|          | 0/9984 [00:00<?, ?it/s]"
      ]
     },
     "metadata": {},
     "output_type": "display_data"
    },
    {
     "data": {
      "application/vnd.jupyter.widget-view+json": {
       "model_id": "364ded25d1574ec5ae692b04d5788124",
       "version_major": 2,
       "version_minor": 0
      },
      "text/plain": [
       "Drawing 9984 posterior samples:   0%|          | 0/9984 [00:00<?, ?it/s]"
      ]
     },
     "metadata": {},
     "output_type": "display_data"
    },
    {
     "data": {
      "application/vnd.jupyter.widget-view+json": {
       "model_id": "8a41b64a4a1545039b100348e0546bb9",
       "version_major": 2,
       "version_minor": 0
      },
      "text/plain": [
       "Drawing 9984 posterior samples:   0%|          | 0/9984 [00:00<?, ?it/s]"
      ]
     },
     "metadata": {},
     "output_type": "display_data"
    },
    {
     "data": {
      "application/vnd.jupyter.widget-view+json": {
       "model_id": "7570a1b65788438aba6ef010e58bc210",
       "version_major": 2,
       "version_minor": 0
      },
      "text/plain": [
       "Drawing 9984 posterior samples:   0%|          | 0/9984 [00:00<?, ?it/s]"
      ]
     },
     "metadata": {},
     "output_type": "display_data"
    },
    {
     "data": {
      "application/vnd.jupyter.widget-view+json": {
       "model_id": "7d2db6d8a79842fd845f8a25d45f3411",
       "version_major": 2,
       "version_minor": 0
      },
      "text/plain": [
       "Drawing 9984 posterior samples:   0%|          | 0/9984 [00:00<?, ?it/s]"
      ]
     },
     "metadata": {},
     "output_type": "display_data"
    },
    {
     "data": {
      "application/vnd.jupyter.widget-view+json": {
       "model_id": "0659c6fc9cfe4c6b8fc9162ca61046b0",
       "version_major": 2,
       "version_minor": 0
      },
      "text/plain": [
       "Drawing 9984 posterior samples:   0%|          | 0/9984 [00:00<?, ?it/s]"
      ]
     },
     "metadata": {},
     "output_type": "display_data"
    },
    {
     "data": {
      "application/vnd.jupyter.widget-view+json": {
       "model_id": "195179088c30485e97ba1aacccfeb711",
       "version_major": 2,
       "version_minor": 0
      },
      "text/plain": [
       "Drawing 9984 posterior samples:   0%|          | 0/9984 [00:00<?, ?it/s]"
      ]
     },
     "metadata": {},
     "output_type": "display_data"
    },
    {
     "data": {
      "application/vnd.jupyter.widget-view+json": {
       "model_id": "3383ca8180b541e4adbd4c9ec673bcb4",
       "version_major": 2,
       "version_minor": 0
      },
      "text/plain": [
       "Drawing 9984 posterior samples:   0%|          | 0/9984 [00:00<?, ?it/s]"
      ]
     },
     "metadata": {},
     "output_type": "display_data"
    },
    {
     "data": {
      "application/vnd.jupyter.widget-view+json": {
       "model_id": "2cfe9f09b151417eb7d0040d1afdb3f9",
       "version_major": 2,
       "version_minor": 0
      },
      "text/plain": [
       "Drawing 9984 posterior samples:   0%|          | 0/9984 [00:00<?, ?it/s]"
      ]
     },
     "metadata": {},
     "output_type": "display_data"
    },
    {
     "data": {
      "application/vnd.jupyter.widget-view+json": {
       "model_id": "73cf4548ad4242ef824609aeb2144a6a",
       "version_major": 2,
       "version_minor": 0
      },
      "text/plain": [
       "Drawing 9984 posterior samples:   0%|          | 0/9984 [00:00<?, ?it/s]"
      ]
     },
     "metadata": {},
     "output_type": "display_data"
    },
    {
     "data": {
      "application/vnd.jupyter.widget-view+json": {
       "model_id": "c24a9b3333984a0e8c55f28d386ccc92",
       "version_major": 2,
       "version_minor": 0
      },
      "text/plain": [
       "Drawing 9984 posterior samples:   0%|          | 0/9984 [00:00<?, ?it/s]"
      ]
     },
     "metadata": {},
     "output_type": "display_data"
    },
    {
     "data": {
      "application/vnd.jupyter.widget-view+json": {
       "model_id": "b13fe6026b634e43b68e253b6c3dae6e",
       "version_major": 2,
       "version_minor": 0
      },
      "text/plain": [
       "Drawing 9984 posterior samples:   0%|          | 0/9984 [00:00<?, ?it/s]"
      ]
     },
     "metadata": {},
     "output_type": "display_data"
    },
    {
     "data": {
      "application/vnd.jupyter.widget-view+json": {
       "model_id": "f0a8481a9adf487d935b5d1102c08e77",
       "version_major": 2,
       "version_minor": 0
      },
      "text/plain": [
       "Drawing 9984 posterior samples:   0%|          | 0/9984 [00:00<?, ?it/s]"
      ]
     },
     "metadata": {},
     "output_type": "display_data"
    },
    {
     "data": {
      "application/vnd.jupyter.widget-view+json": {
       "model_id": "19ed378bf8884625b9f8355f5c40f73f",
       "version_major": 2,
       "version_minor": 0
      },
      "text/plain": [
       "Drawing 9984 posterior samples:   0%|          | 0/9984 [00:00<?, ?it/s]"
      ]
     },
     "metadata": {},
     "output_type": "display_data"
    },
    {
     "data": {
      "application/vnd.jupyter.widget-view+json": {
       "model_id": "b84ac8379ce14bb5820ffa0622bac55e",
       "version_major": 2,
       "version_minor": 0
      },
      "text/plain": [
       "Drawing 9984 posterior samples:   0%|          | 0/9984 [00:00<?, ?it/s]"
      ]
     },
     "metadata": {},
     "output_type": "display_data"
    },
    {
     "data": {
      "application/vnd.jupyter.widget-view+json": {
       "model_id": "5566bcd0722e40ce89cf196c5e4ea970",
       "version_major": 2,
       "version_minor": 0
      },
      "text/plain": [
       "Drawing 9984 posterior samples:   0%|          | 0/9984 [00:00<?, ?it/s]"
      ]
     },
     "metadata": {},
     "output_type": "display_data"
    },
    {
     "data": {
      "application/vnd.jupyter.widget-view+json": {
       "model_id": "134e4d88b3a142e9ac333d3ba724b4c8",
       "version_major": 2,
       "version_minor": 0
      },
      "text/plain": [
       "Drawing 256 posterior samples:   0%|          | 0/256 [00:00<?, ?it/s]"
      ]
     },
     "metadata": {},
     "output_type": "display_data"
    },
    {
     "data": {
      "application/vnd.jupyter.widget-view+json": {
       "model_id": "b2f2173fd01645c8bc4992ed44b2c425",
       "version_major": 2,
       "version_minor": 0
      },
      "text/plain": [
       "Drawing 5000 posterior samples:   0%|          | 0/5000 [00:00<?, ?it/s]"
      ]
     },
     "metadata": {},
     "output_type": "display_data"
    },
    {
     "data": {
      "application/vnd.jupyter.widget-view+json": {
       "model_id": "39dc6e56d8de49a38428e7d4356215ea",
       "version_major": 2,
       "version_minor": 0
      },
      "text/plain": [
       "Drawing 5000 posterior samples:   0%|          | 0/5000 [00:00<?, ?it/s]"
      ]
     },
     "metadata": {},
     "output_type": "display_data"
    },
    {
     "data": {
      "application/vnd.jupyter.widget-view+json": {
       "model_id": "7d6aa68d5c0a4c8a88e017d58e43d7f0",
       "version_major": 2,
       "version_minor": 0
      },
      "text/plain": [
       "Drawing 9984 posterior samples:   0%|          | 0/9984 [00:00<?, ?it/s]"
      ]
     },
     "metadata": {},
     "output_type": "display_data"
    },
    {
     "data": {
      "application/vnd.jupyter.widget-view+json": {
       "model_id": "131dde6516a04d67b1c747446a533865",
       "version_major": 2,
       "version_minor": 0
      },
      "text/plain": [
       "Drawing 9984 posterior samples:   0%|          | 0/9984 [00:00<?, ?it/s]"
      ]
     },
     "metadata": {},
     "output_type": "display_data"
    },
    {
     "data": {
      "application/vnd.jupyter.widget-view+json": {
       "model_id": "16c5711bc5a541cca5cd6c405bcf0b0d",
       "version_major": 2,
       "version_minor": 0
      },
      "text/plain": [
       "Drawing 9984 posterior samples:   0%|          | 0/9984 [00:00<?, ?it/s]"
      ]
     },
     "metadata": {},
     "output_type": "display_data"
    },
    {
     "data": {
      "application/vnd.jupyter.widget-view+json": {
       "model_id": "152530d675a646108189353f181a4138",
       "version_major": 2,
       "version_minor": 0
      },
      "text/plain": [
       "Drawing 9984 posterior samples:   0%|          | 0/9984 [00:00<?, ?it/s]"
      ]
     },
     "metadata": {},
     "output_type": "display_data"
    },
    {
     "data": {
      "application/vnd.jupyter.widget-view+json": {
       "model_id": "ce7a9853dbab445ab13da46426514f0e",
       "version_major": 2,
       "version_minor": 0
      },
      "text/plain": [
       "Drawing 9984 posterior samples:   0%|          | 0/9984 [00:00<?, ?it/s]"
      ]
     },
     "metadata": {},
     "output_type": "display_data"
    },
    {
     "data": {
      "application/vnd.jupyter.widget-view+json": {
       "model_id": "f8356bba26054f46a1d84b6e8fb5679c",
       "version_major": 2,
       "version_minor": 0
      },
      "text/plain": [
       "Drawing 9984 posterior samples:   0%|          | 0/9984 [00:00<?, ?it/s]"
      ]
     },
     "metadata": {},
     "output_type": "display_data"
    },
    {
     "data": {
      "application/vnd.jupyter.widget-view+json": {
       "model_id": "351b846e45bf4cf9819483778520a913",
       "version_major": 2,
       "version_minor": 0
      },
      "text/plain": [
       "Drawing 9984 posterior samples:   0%|          | 0/9984 [00:00<?, ?it/s]"
      ]
     },
     "metadata": {},
     "output_type": "display_data"
    },
    {
     "data": {
      "application/vnd.jupyter.widget-view+json": {
       "model_id": "c9f52ceac73f4d9d90b2e6537c09cb7e",
       "version_major": 2,
       "version_minor": 0
      },
      "text/plain": [
       "Drawing 9984 posterior samples:   0%|          | 0/9984 [00:00<?, ?it/s]"
      ]
     },
     "metadata": {},
     "output_type": "display_data"
    },
    {
     "data": {
      "application/vnd.jupyter.widget-view+json": {
       "model_id": "ab76427845e643b7855324fe47980b71",
       "version_major": 2,
       "version_minor": 0
      },
      "text/plain": [
       "Drawing 9984 posterior samples:   0%|          | 0/9984 [00:00<?, ?it/s]"
      ]
     },
     "metadata": {},
     "output_type": "display_data"
    },
    {
     "data": {
      "application/vnd.jupyter.widget-view+json": {
       "model_id": "d84f582ae5e14c14bf39b4084dfe8594",
       "version_major": 2,
       "version_minor": 0
      },
      "text/plain": [
       "Drawing 9984 posterior samples:   0%|          | 0/9984 [00:00<?, ?it/s]"
      ]
     },
     "metadata": {},
     "output_type": "display_data"
    },
    {
     "data": {
      "application/vnd.jupyter.widget-view+json": {
       "model_id": "8fd2a51c519a4412be39c13c6937e1f0",
       "version_major": 2,
       "version_minor": 0
      },
      "text/plain": [
       "Drawing 9984 posterior samples:   0%|          | 0/9984 [00:00<?, ?it/s]"
      ]
     },
     "metadata": {},
     "output_type": "display_data"
    },
    {
     "data": {
      "application/vnd.jupyter.widget-view+json": {
       "model_id": "9afe78d8740e4afdabf7a70aaa3a2110",
       "version_major": 2,
       "version_minor": 0
      },
      "text/plain": [
       "Drawing 9984 posterior samples:   0%|          | 0/9984 [00:00<?, ?it/s]"
      ]
     },
     "metadata": {},
     "output_type": "display_data"
    },
    {
     "data": {
      "application/vnd.jupyter.widget-view+json": {
       "model_id": "acc1136f162145e98e7bbb71388e921b",
       "version_major": 2,
       "version_minor": 0
      },
      "text/plain": [
       "Drawing 9984 posterior samples:   0%|          | 0/9984 [00:00<?, ?it/s]"
      ]
     },
     "metadata": {},
     "output_type": "display_data"
    },
    {
     "data": {
      "application/vnd.jupyter.widget-view+json": {
       "model_id": "d04d4de5a37a4800a54179831bf6be42",
       "version_major": 2,
       "version_minor": 0
      },
      "text/plain": [
       "Drawing 9984 posterior samples:   0%|          | 0/9984 [00:00<?, ?it/s]"
      ]
     },
     "metadata": {},
     "output_type": "display_data"
    },
    {
     "data": {
      "application/vnd.jupyter.widget-view+json": {
       "model_id": "02d3d37c5436424183de11cd5faf80e0",
       "version_major": 2,
       "version_minor": 0
      },
      "text/plain": [
       "Drawing 9984 posterior samples:   0%|          | 0/9984 [00:00<?, ?it/s]"
      ]
     },
     "metadata": {},
     "output_type": "display_data"
    },
    {
     "data": {
      "application/vnd.jupyter.widget-view+json": {
       "model_id": "37225ac5da75408ea1512acb09998a70",
       "version_major": 2,
       "version_minor": 0
      },
      "text/plain": [
       "Drawing 9984 posterior samples:   0%|          | 0/9984 [00:00<?, ?it/s]"
      ]
     },
     "metadata": {},
     "output_type": "display_data"
    },
    {
     "data": {
      "application/vnd.jupyter.widget-view+json": {
       "model_id": "1d88c3fd69a34868a6a39db9f8c3b258",
       "version_major": 2,
       "version_minor": 0
      },
      "text/plain": [
       "Drawing 256 posterior samples:   0%|          | 0/256 [00:00<?, ?it/s]"
      ]
     },
     "metadata": {},
     "output_type": "display_data"
    },
    {
     "data": {
      "image/png": "[encoded data removed]",
      "text/plain": [
       "<Figure size 500x150 with 2 Axes>"
      ]
     },
     "metadata": {},
     "output_type": "display_data"
    },
    {
     "data": {
      "image/png": "[encoded data removed]",
      "text/plain": [
       "<Figure size 500x150 with 2 Axes>"
      ]
     },
     "metadata": {},
     "output_type": "display_data"
    },
    {
     "data": {
      "image/png": "[encoded data removed]",
      "text/plain": [
       "<Figure size 500x150 with 2 Axes>"
      ]
     },
     "metadata": {},
     "output_type": "display_data"
    },
    {
     "data": {
      "image/png": "[encoded data removed]",
      "text/plain": [
       "<Figure size 500x150 with 2 Axes>"
      ]
     },
     "metadata": {},
     "output_type": "display_data"
    },
    {
     "data": {
      "image/png": "[encoded data removed]",
      "text/plain": [
       "<Figure size 500x150 with 2 Axes>"
      ]
     },
     "metadata": {},
     "output_type": "display_data"
    }
   ],
   "source": [
    "from torch import ones, eye\n",
    "import torch\n",
    "from torch.distributions import MultivariateNormal\n",
    "\n",
    "from sbi.inference import SNPE, ImportanceSamplingPosterior\n",
    "from sbi.utils import BoxUniform\n",
    "from sbi.inference.potentials.base_potential import BasePotential\n",
    "from sbi.analysis import pairplot, marginal_plot\n",
    "\n",
    "\n",
    "class Simulator:\n",
    "    def __init__(self):\n",
    "        pass\n",
    "\n",
    "    def log_prob(self, theta, x):\n",
    "        return MultivariateNormal(theta, eye(2)).log_prob(x) + prior.log_prob(theta)\n",
    "\n",
    "    def sample(self, theta):\n",
    "        return theta + torch.randn((theta.shape))\n",
    "\n",
    "\n",
    "class Potential(BasePotential):\n",
    "    allow_iid_x = False\n",
    "\n",
    "    def __init__(self, prior, x_o, **kwargs):\n",
    "        super().__init__(prior, x_o, **kwargs)\n",
    "\n",
    "    def __call__(self, theta, **kwargs):\n",
    "        return sim.log_prob(theta, self.x_o)\n",
    "\n",
    "\n",
    "prior = BoxUniform(-5 * ones((2,)), 5 * ones((2,)))\n",
    "sim = Simulator()\n",
    "\n",
    "_ = torch.manual_seed(3)\n",
    "theta = prior.sample((50,))\n",
    "x = sim.sample(theta)\n",
    "\n",
    "_ = torch.manual_seed(4)\n",
    "inference = SNPE(prior=prior)\n",
    "_ = inference.append_simulations(theta, x).train()\n",
    "posterior = inference.build_posterior()\n",
    "\n",
    "_ = torch.manual_seed(2)\n",
    "theta_gt = prior.sample((5,))\n",
    "observations = sim.sample(theta_gt)\n",
    "print(\"observations.shape\", observations.shape)\n",
    "\n",
    "\n",
    "oversampling_factor = 128  # higher will be slower but more accurate\n",
    "n_samples = 5000\n",
    "\n",
    "non_corrected_samples_for_all_observations = []\n",
    "corrected_samples_for_all_observations = []\n",
    "true_samples = []\n",
    "for obs in observations:\n",
    "    non_corrected_samples_for_all_observations.append(posterior.set_default_x(obs).sample((n_samples,)))\n",
    "    corrected_posterior = ImportanceSamplingPosterior(\n",
    "        potential_fn=Potential(prior=None, x_o=obs),\n",
    "        proposal=posterior.set_default_x(obs),\n",
    "        method=\"sir\",\n",
    "    )\n",
    "    corrected_samples = corrected_posterior.sample((n_samples,), oversampling_factor=oversampling_factor)\n",
    "    corrected_samples_for_all_observations.append(corrected_samples)\n",
    "\n",
    "    gt_samples = MultivariateNormal(obs, eye(2)).sample((n_samples * 5,))\n",
    "    gt_samples = gt_samples[prior.support.check(gt_samples)][:n_samples]\n",
    "    true_samples.append(gt_samples)\n",
    "\n",
    "\n",
    "for i in range(len(observations)):\n",
    "    fig, ax = marginal_plot(\n",
    "        [non_corrected_samples_for_all_observations[i], corrected_samples_for_all_observations[i], true_samples[i]], \n",
    "        limits=[[-5, 5], [-5, 5]], \n",
    "        points=theta_gt[i], \n",
    "        figsize=(5, 1.5),\n",
    "        diag=\"kde\",  # smooth histogram\n",
    "    )\n",
    "    ax[0][1].legend([\"NPE\", \"Corrected\", \"Ground truth\"], loc=\"upper right\", bbox_to_anchor=[1.8, 1.0, 0.0, 0.0])"
   ]
  },
  {
   "cell_type": "code",
   "execution_count": null,
   "id": "f54aef73-e154-4e23-bbbe-69f08be85bdc",
   "metadata": {},
   "outputs": [],
   "source": [
    "potential_logprobs = potential_fn(samples)\n",
    "proposal_logprobs = proposal.log_prob(samples)\n",
    "log_importance_weights = potential_logprobs - proposal_logprobs"
   ]
  },
  {
   "cell_type": "code",
   "execution_count": 7,
   "id": "ad89e51f-6d0f-4b31-baef-12aff1bf0737",
   "metadata": {},
   "outputs": [
    {
     "data": {
      "text/plain": [
       "'sir'"
      ]
     },
     "execution_count": 7,
     "metadata": {},
     "output_type": "execute_result"
    }
   ],
   "source": [
    "corrected_posterior.method"
   ]
  },
  {
   "cell_type": "code",
   "execution_count": 2,
   "id": "09471c29-c834-4ea4-901e-ee81a2db756e",
   "metadata": {},
   "outputs": [
    {
     "data": {
      "text/plain": [
       "tensor([[ 0.6470, -1.2714],\n",
       "        [ 1.2079,  1.2723],\n",
       "        [ 1.7336,  1.2876],\n",
       "        [-1.1429, -5.3115],\n",
       "        [ 1.7205, -5.9448]])"
      ]
     },
     "execution_count": 2,
     "metadata": {},
     "output_type": "execute_result"
    }
   ],
   "source": [
    "observations"
   ]
  },
  {
   "cell_type": "code",
   "execution_count": 3,
   "id": "afa5d882-4509-48c8-a23b-f0c3d8798295",
   "metadata": {},
   "outputs": [
    {
     "data": {
      "application/vnd.jupyter.widget-view+json": {
       "model_id": "0d40494b6fed4026945ed987b2c38415",
       "version_major": 2,
       "version_minor": 0
      },
      "text/plain": [
       "Drawing 5000 posterior samples:   0%|          | 0/5000 [00:00<?, ?it/s]"
      ]
     },
     "metadata": {},
     "output_type": "display_data"
    },
    {
     "data": {
      "text/plain": [
       "tensor([[ 0.5436, -4.4635],\n",
       "        [ 0.9399, -4.8755],\n",
       "        [ 0.7478, -3.8601],\n",
       "        ...,\n",
       "        [ 3.1949, -3.7732],\n",
       "        [ 2.4367, -3.1603],\n",
       "        [ 0.2160, -4.4788]])"
      ]
     },
     "execution_count": 3,
     "metadata": {},
     "output_type": "execute_result"
    }
   ],
   "source": [
    "posterior.set_default_x(obs).sample((n_samples,))"
   ]
  },
  {
   "cell_type": "code",
   "execution_count": 9,
   "id": "84b5b83e-c769-4f87-a3bb-27ded0f2bce9",
   "metadata": {},
   "outputs": [],
   "source": [
    "corrected_posterior = ImportanceSamplingPosterior(\n",
    "    potential_fn=Potential(prior=None, x_o=obs),\n",
    "    proposal=posterior.set_default_x(obs),\n",
    "    # method=\"sir\",\n",
    "    method=\"importance\",\n",
    ")"
   ]
  },
  {
   "cell_type": "code",
   "execution_count": 10,
   "id": "be07b45c-9507-4f78-aeda-6db6b7765f4b",
   "metadata": {},
   "outputs": [
    {
     "data": {
      "text/plain": [
       "128"
      ]
     },
     "execution_count": 10,
     "metadata": {},
     "output_type": "execute_result"
    }
   ],
   "source": [
    "oversampling_factor"
   ]
  },
  {
   "cell_type": "code",
   "execution_count": 14,
   "id": "06afeb59-a3e4-42d9-a64c-f411e83de4a1",
   "metadata": {},
   "outputs": [
    {
     "data": {
      "application/vnd.jupyter.widget-view+json": {
       "model_id": "fdf7e2656f5248f5a894ef549afc3c72",
       "version_major": 2,
       "version_minor": 0
      },
      "text/plain": [
       "Drawing 5000 posterior samples:   0%|          | 0/5000 [00:00<?, ?it/s]"
      ]
     },
     "metadata": {},
     "output_type": "display_data"
    }
   ],
   "source": [
    "corrected_samples, weights = corrected_posterior.sample((n_samples,), oversampling_factor=oversampling_factor)"
   ]
  },
  {
   "cell_type": "code",
   "execution_count": 18,
   "id": "8e45117a-64e0-46eb-9ad1-2509e21621f1",
   "metadata": {},
   "outputs": [
    {
     "data": {
      "text/plain": [
       "tensor(2356.5281)"
      ]
     },
     "execution_count": 18,
     "metadata": {},
     "output_type": "execute_result"
    }
   ],
   "source": [
    "torch.sum(torch.exp(weights))**2 / torch.sum(torch.exp(weights)**2)"
   ]
  },
  {
   "cell_type": "code",
   "execution_count": 17,
   "id": "4ba7fb9a-032c-4819-8b58-9fe40021e0dc",
   "metadata": {},
   "outputs": [
    {
     "data": {
      "text/plain": [
       "tensor(0.0033)"
      ]
     },
     "execution_count": 17,
     "metadata": {},
     "output_type": "execute_result"
    }
   ],
   "source": [
    "torch.mean(torch.exp(weights))"
   ]
  },
  {
   "cell_type": "code",
   "execution_count": 13,
   "id": "57ee15fd-29fa-4607-bb00-b41dcf028323",
   "metadata": {},
   "outputs": [
    {
     "data": {
      "text/plain": [
       "(tensor([[ 0.7254, -4.4200],\n",
       "         [ 0.0597, -4.9532],\n",
       "         [ 1.5032, -4.4630],\n",
       "         ...,\n",
       "         [ 0.2389, -4.5077],\n",
       "         [ 0.1377, -4.4233],\n",
       "         [ 1.6937, -4.9443]]),\n",
       " tensor([-5.6697, -5.8994, -5.0362,  ..., -6.1128, -6.3228, -4.3970]))"
      ]
     },
     "execution_count": 13,
     "metadata": {},
     "output_type": "execute_result"
    }
   ],
   "source": [
    "corrected_samples"
   ]
  },
  {
   "cell_type": "code",
   "execution_count": null,
   "id": "7be8609b-d616-4a5f-9177-62e230aaa6fe",
   "metadata": {},
   "outputs": [],
   "source": [
    "non_corrected_samples_for_all_observations.append(posterior.set_default_x(obs).sample((n_samples,)))\n",
    "corrected_posterior = ImportanceSamplingPosterior(\n",
    "    potential_fn=Potential(prior=None, x_o=obs),\n",
    "    proposal=posterior.set_default_x(obs),\n",
    "    method=\"sir\",\n",
    ")\n",
    "corrected_samples = corrected_posterior.sample((n_samples,), oversampling_factor=oversampling_factor)\n",
    "corrected_samples_for_all_observations.append(corrected_samples)\n",
    "\n",
    "gt_samples = MultivariateNormal(obs, eye(2)).sample((n_samples * 5,))\n",
    "gt_samples = gt_samples[prior.support.check(gt_samples)][:n_samples]\n",
    "true_samples.append(gt_samples)"
   ]
  }
 ],
 "metadata": {
  "kernelspec": {
   "display_name": "Python 3 (ipykernel)",
   "language": "python",
   "name": "python3"
  },
  "language_info": {
   "codemirror_mode": {
    "name": "ipython",
    "version": 3
   },
   "file_extension": ".py",
   "mimetype": "text/x-python",
   "name": "python",
   "nbconvert_exporter": "python",
   "pygments_lexer": "ipython3",
   "version": "3.10.13"
  }
 },
 "nbformat": 4,
 "nbformat_minor": 5
}
